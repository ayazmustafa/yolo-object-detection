{
 "cells": [
  {
   "cell_type": "markdown",
   "id": "6228ae7a",
   "metadata": {},
   "source": [
    "# Important Note:\n",
    "\n",
    "### I strongly suggest you follow my step-by-step video tutorial. The video will not only walk you through each step of the process but also includes a real-time execution using Diablo 2 as an example.\n",
    "\n",
    "### Here is the link to the video: \n",
    "https://www.youtube.com/watch?v=RSXgyDf2ALo\n",
    "[![Watch the video](https://img.youtube.com/vi/RSXgyDf2ALo/maxresdefault.jpg)](https://youtu.be/RSXgyDf2ALo)\n"
   ]
  },
  {
   "cell_type": "markdown",
   "id": "c75577ac",
   "metadata": {},
   "source": [
    "# **Instructions**:\n",
    "\n",
    "### 1 - Open your game that you want to perform detections\n",
    "### 2 - In the game window, get the name of it's title bar \n",
    "### 3 - Update the variable \"window_name\" with the game title bar name\n",
    "### 4 - Run all cells to start generating your dataset in the folder images"
   ]
  },
  {
   "cell_type": "code",
   "execution_count": 3,
   "id": "91800ec7",
   "metadata": {},
   "outputs": [],
   "source": [
    "import numpy as np\n",
    "import win32gui, win32ui, win32con\n",
    "from PIL import Image\n",
    "from time import sleep\n",
    "import os"
   ]
  },
  {
   "cell_type": "code",
   "execution_count": 2,
   "id": "5f9c9c67",
   "metadata": {},
   "outputs": [],
   "source": [
    "class WindowCapture:\n",
    "    w = 0\n",
    "    h = 0\n",
    "    hwnd = None\n",
    "\n",
    "    def __init__(self, window_name):\n",
    "        self.hwnd = win32gui.FindWindow(None, window_name)\n",
    "        if not self.hwnd:\n",
    "            raise Exception('Window not found: {}'.format(window_name))\n",
    "\n",
    "        window_rect = win32gui.GetWindowRect(self.hwnd)\n",
    "        self.w = window_rect[2] - window_rect[0]\n",
    "        self.h = window_rect[3] - window_rect[1]\n",
    "\n",
    "        border_pixels = 8\n",
    "        titlebar_pixels = 30\n",
    "        self.w = self.w - (border_pixels * 2)\n",
    "        self.h = self.h - titlebar_pixels - border_pixels\n",
    "        self.cropped_x = border_pixels\n",
    "        self.cropped_y = titlebar_pixels\n",
    "\n",
    "    def get_screenshot(self):\n",
    "        wDC = win32gui.GetWindowDC(self.hwnd)\n",
    "        dcObj = win32ui.CreateDCFromHandle(wDC)\n",
    "        cDC = dcObj.CreateCompatibleDC()\n",
    "        dataBitMap = win32ui.CreateBitmap()\n",
    "        dataBitMap.CreateCompatibleBitmap(dcObj, self.w, self.h)\n",
    "        cDC.SelectObject(dataBitMap)\n",
    "        cDC.BitBlt((0, 0), (self.w, self.h), dcObj, (self.cropped_x, self.cropped_y), win32con.SRCCOPY)\n",
    "\n",
    "        signedIntsArray = dataBitMap.GetBitmapBits(True)\n",
    "        img = np.fromstring(signedIntsArray, dtype='uint8')\n",
    "        img.shape = (self.h, self.w, 4)\n",
    "\n",
    "        dcObj.DeleteDC()\n",
    "        cDC.DeleteDC()\n",
    "        win32gui.ReleaseDC(self.hwnd, wDC)\n",
    "        win32gui.DeleteObject(dataBitMap.GetHandle())\n",
    "\n",
    "        img = img[...,:3]\n",
    "        img = np.ascontiguousarray(img) \n",
    "            \n",
    "        return img\n",
    "\n",
    "    def generate_image_dataset(self):\n",
    "        if not os.path.exists(\"images\"):\n",
    "            os.mkdir(\"images\")\n",
    "        while(True):\n",
    "            img = self.get_screenshot()\n",
    "            im = Image.fromarray(img[..., [2, 1, 0]])\n",
    "            im.save(f\"./images/img_{len(os.listdir('images'))}.jpg\")\n",
    "            sleep(0.3)\n",
    "    \n",
    "    def get_window_size(self):\n",
    "        return (self.w, self.h)"
   ]
  },
  {
   "cell_type": "code",
   "execution_count": 6,
   "id": "5507d47c",
   "metadata": {},
   "outputs": [
    {
     "ename": "Exception",
     "evalue": "Window not found: Harbi2 Global | International Official Server - Doyyumhwan",
     "output_type": "error",
     "traceback": [
      "\u001b[1;31m---------------------------------------------------------------------------\u001b[0m",
      "\u001b[1;31mException\u001b[0m                                 Traceback (most recent call last)",
      "Cell \u001b[1;32mIn[6], line 5\u001b[0m\n\u001b[0;32m      1\u001b[0m \u001b[38;5;66;03m# Execute this cell to generate a dataset of images for the specified window.\u001b[39;00m\n\u001b[0;32m      3\u001b[0m window_name \u001b[38;5;241m=\u001b[39m \u001b[38;5;124m\"\u001b[39m\u001b[38;5;124mHarbi2 Global | International Official Server - Doyyumhwan\u001b[39m\u001b[38;5;124m\"\u001b[39m\n\u001b[1;32m----> 5\u001b[0m wincap \u001b[38;5;241m=\u001b[39m \u001b[43mWindowCapture\u001b[49m\u001b[43m(\u001b[49m\u001b[43mwindow_name\u001b[49m\u001b[43m)\u001b[49m\n\u001b[0;32m      6\u001b[0m wincap\u001b[38;5;241m.\u001b[39mgenerate_image_dataset()\n",
      "Cell \u001b[1;32mIn[2], line 9\u001b[0m, in \u001b[0;36mWindowCapture.__init__\u001b[1;34m(self, window_name)\u001b[0m\n\u001b[0;32m      7\u001b[0m \u001b[38;5;28mself\u001b[39m\u001b[38;5;241m.\u001b[39mhwnd \u001b[38;5;241m=\u001b[39m win32gui\u001b[38;5;241m.\u001b[39mFindWindow(\u001b[38;5;28;01mNone\u001b[39;00m, window_name)\n\u001b[0;32m      8\u001b[0m \u001b[38;5;28;01mif\u001b[39;00m \u001b[38;5;129;01mnot\u001b[39;00m \u001b[38;5;28mself\u001b[39m\u001b[38;5;241m.\u001b[39mhwnd:\n\u001b[1;32m----> 9\u001b[0m     \u001b[38;5;28;01mraise\u001b[39;00m \u001b[38;5;167;01mException\u001b[39;00m(\u001b[38;5;124m'\u001b[39m\u001b[38;5;124mWindow not found: \u001b[39m\u001b[38;5;132;01m{}\u001b[39;00m\u001b[38;5;124m'\u001b[39m\u001b[38;5;241m.\u001b[39mformat(window_name))\n\u001b[0;32m     11\u001b[0m window_rect \u001b[38;5;241m=\u001b[39m win32gui\u001b[38;5;241m.\u001b[39mGetWindowRect(\u001b[38;5;28mself\u001b[39m\u001b[38;5;241m.\u001b[39mhwnd)\n\u001b[0;32m     12\u001b[0m \u001b[38;5;28mself\u001b[39m\u001b[38;5;241m.\u001b[39mw \u001b[38;5;241m=\u001b[39m window_rect[\u001b[38;5;241m2\u001b[39m] \u001b[38;5;241m-\u001b[39m window_rect[\u001b[38;5;241m0\u001b[39m]\n",
      "\u001b[1;31mException\u001b[0m: Window not found: Harbi2 Global | International Official Server - Doyyumhwan"
     ]
    }
   ],
   "source": [
    "# Execute this cell to generate a dataset of images for the specified window.\n",
    "\n",
    "window_name = \"Harbi2 Global | International Official\\xa0Server - Doyyumhwan\"\n",
    "\n",
    "wincap = WindowCapture(window_name)\n",
    "wincap.generate_image_dataset()"
   ]
  },
  {
   "cell_type": "code",
   "execution_count": 4,
   "id": "140eee80",
   "metadata": {},
   "outputs": [
    {
     "name": "stdout",
     "output_type": "stream",
     "text": [
      "['', '', '', '', '', 'GDI+ Window (DisplayFusion.exe)', '', '', '', '', '', '', '', '', '', '', '', '', 'PowerToys Find My Mouse', '', 'NVIDIA GeForce Overlay DT', '', 'Battery Meter', '', 'Network Flyout', '', 'CiceroUIWndFrame', 'logioptionsplus_agent', 'PowerToys.PowerLauncher', 'CiceroUIWndFrame', 'Window', 'EAGrid', '', 'CiceroUIWndFrame', '', '1_generate_dataset - Google Chrome', '', 'Harbi2 Global | International Official\\xa0Server - Doyyumhwan', 'DDMExtension', '', 'DIEmWin', 'DesktopWindowXamlSource', '', 'Mouse without Borders Helper', '', '.NET-BroadcastEventWindow.378734a.0', 'GDI+ Window (PowerToys.MouseWithoutBordersHelper.exe)', '#genel-sohbet | dağda keklik burda domates - Discord', '', '', 'BackgroundModeTrayIconClass', '', '', '', '', '', 'Task Host Window', 'Dell Display Manager2.2_Basic', 'Hidden Window', 'CiceroUIWndFrame', '', '', '', '', '', '', '', '', '', '', '', '', '', 'Settings', 'Settings', '', 'WUIconWindow', '', 'frmInputCallback', '', 'PowerToys.MouseWithoutBorders Application', '', 'GDI+ Window (PowerToys.MouseWithoutBorders.exe)', '.NET-BroadcastEventWindow.2b89eaa.0', '', '', '', '', '99% complete', 'GDI+ Window (Explorer.EXE)', '', '', '', '', '', '', '', '', 'Media Player', 'Media Player', '', 'Calculator', 'Calculator', 'CiceroUIWndFrame', 'DDE Server Window', '', 'Hidden Window', 'SystemResourceNotifyWindow', '', 'ActiveMovie Window', 'ActiveMovie Window', '', '', '', '', '', '', 'DisplayFusion Main Controller • DisplayFusion 10.1.2', '', 'Hidden Window', 'Dell Display Manager2.2_Full', '', 'GDI+ Window (DDM.exe)', 'MediaContextNotificationWindow', 'MediaContextNotificationWindow', '.NET-BroadcastEventWindow.25468f2.0', '', 'SystemResourceNotifyWindow', '.NET-BroadcastEventWindow.3802275.0', 'DisplayFusion 10.1.2', 'CiceroUIWndFrame', 'MediaContextNotificationWindow', '', 'Hidden Window', 'GDI+ Window (PowerToys.ColorPickerUI.exe)', '.NET-BroadcastEventWindow.bf7771.0', '', 'SystemResourceNotifyWindow', 'GDI+ Window (PowerToys.PowerLauncher.exe)', '.NET-BroadcastEventWindow.b7ab7b.0', '', 'SystemResourceNotifyWindow', 'Microsoft Text Input Application', '', 'NVIDIA RLA Utility', 'C:\\\\Program Files\\\\NVIDIA Corporation\\\\FrameViewSDK\\\\bin\\\\PresentMon_x64.exe', '.NET-BroadcastEventWindow.b7ab7b.0', '', '', '', 'PowerToys Mouse Highlighter', '', '', 'HiddenFaxWindow', 'NVIDIA NodeJS Share Window', '{5AEA657D-F3F5-4BD8-BFE9-A4B537FA24C3}', '', 'Task Host Window', '', 'NVIDIA GeForce Overlay', '', '', '', '{1274D398-C3C8-422E-87DD-2FAFFD5A7F2F}', '{2A335767-FC94-417F-ABC4-B4122ADBEE60}', 'PToyTrayIconWindow', 'NvSvc', '', 'GDI+ Window (PowerToys.exe)', 'BroadcastListenerWindow', 'UxdService', 'BluetoothNotificationAreaIconWindowClass', 'MS_WebcheckMonitor', '', '', 'DDE Server Window', 'CIntfEnumNotifWnd', 'Logi_DFUAPI_MainWindow', '', '', '', '', '', '', '', '', '', '', '', '', 'BroadcastListenerWindow', 'BroadcastListenerWindow', 'BroadcastListenerWindow', 't', 't', '', '', '', '', 'Logi_Devio_MainWindow', 'Windows Push Notifications Platform', 't', '', '', '', '', 'Task Host Window', 'NvContainerWindowClass00002034', 'NvContainerWindowClass00002044', 'RxDiag Message Pump 3.1 Mar 10 2023 08:28:10', '', 'NvContainerWindowClass00000C34', 'DWM Notification Window', '', '', '', 'npm prefix', '', '', '', '', '', '', 'Program Manager', 'MSCTFIME UI', 'Default IME', 'Default IME', 'Default IME', 'Default IME', 'MSCTFIME UI', 'Default IME', 'MSCTFIME UI', 'Default IME', 'MSCTFIME UI', 'Default IME', 'MSCTFIME UI', 'Default IME', 'MSCTFIME UI', 'Default IME', 'Default IME', 'MSCTFIME UI', 'Default IME', 'MSCTFIME UI', 'Default IME', 'MSCTFIME UI', 'Default IME', 'MSCTFIME UI', 'Default IME', 'MSCTFIME UI', 'Default IME', 'Default IME', 'Default IME', 'MSCTFIME UI', 'Default IME', 'MSCTFIME UI', 'Default IME', 'Default IME', 'Default IME', 'MSCTFIME UI', 'Default IME', 'Default IME', 'Default IME', 'Default IME', 'Default IME', 'Default IME', 'Default IME', 'Default IME', 'Default IME', 'Default IME', 'Default IME', 'Default IME', 'Default IME', 'Default IME', 'MSCTFIME UI', 'Default IME', 'Default IME', 'Default IME', 'MSCTFIME UI', 'Default IME', 'MSCTFIME UI', 'Default IME', 'Default IME', 'Default IME', 'Default IME', 'Default IME', 'Default IME', 'MSCTFIME UI', 'Default IME', 'Default IME', 'Default IME', 'Default IME', 'MSCTFIME UI', 'Default IME', 'Default IME', 'Default IME', 'Default IME', 'Default IME', 'Default IME', 'MSCTFIME UI', 'Default IME', 'Default IME', 'Default IME', 'MSCTFIME UI', 'Default IME', 'Default IME', 'Default IME', 'Default IME', 'Default IME', 'Default IME', 'Default IME', 'Default IME', 'Default IME', 'Default IME', 'Default IME', 'Default IME', 'Default IME', 'Default IME', 'Default IME', 'Default IME', 'Default IME', 'Default IME', 'Default IME', 'Default IME', 'Default IME', 'Default IME', 'Default IME', 'Default IME', 'Default IME', 'Default IME', 'Default IME', 'Default IME', 'Default IME', 'Default IME', 'Default IME', 'Default IME', 'Default IME', 'Default IME', 'Default IME', 'Default IME', 'Default IME', 'Default IME', 'Default IME', 'Default IME', 'Default IME', 'Default IME', 'Default IME', 'Default IME', 'Default IME', 'Default IME', 'Default IME', 'MSCTFIME UI', 'Default IME', 'Default IME', 'MSCTFIME UI', 'Default IME']\n"
     ]
    }
   ],
   "source": [
    "def enum_window_titles():\n",
    "    def callback(handle, data):\n",
    "        titles.append(win32gui.GetWindowText(handle))\n",
    "\n",
    "    titles = []\n",
    "    win32gui.EnumWindows(callback, None)\n",
    "    return titles\n",
    "\n",
    "window_titles = enum_window_titles()\n",
    "print(window_titles)"
   ]
  },
  {
   "cell_type": "code",
   "execution_count": null,
   "id": "47ff9941-b12b-45dc-8e82-84099455a9c8",
   "metadata": {},
   "outputs": [],
   "source": []
  }
 ],
 "metadata": {
  "kernelspec": {
   "display_name": "Python 3 (ipykernel)",
   "language": "python",
   "name": "python3"
  },
  "language_info": {
   "codemirror_mode": {
    "name": "ipython",
    "version": 3
   },
   "file_extension": ".py",
   "mimetype": "text/x-python",
   "name": "python",
   "nbconvert_exporter": "python",
   "pygments_lexer": "ipython3",
   "version": "3.11.2"
  }
 },
 "nbformat": 4,
 "nbformat_minor": 5
}
